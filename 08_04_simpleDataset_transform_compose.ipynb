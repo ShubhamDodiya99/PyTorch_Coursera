{
 "cells": [
  {
   "cell_type": "code",
   "execution_count": 24,
   "id": "707536a7",
   "metadata": {},
   "outputs": [],
   "source": [
    "import torch\n",
    "from torch.utils.data import Dataset\n",
    "from torchvision.transforms import Compose"
   ]
  },
  {
   "cell_type": "markdown",
   "id": "8068b764",
   "metadata": {},
   "source": [
    "### Simple Dataset"
   ]
  },
  {
   "cell_type": "code",
   "execution_count": 46,
   "id": "cc33c0f9",
   "metadata": {},
   "outputs": [],
   "source": [
    "# Define class for dataset\n",
    "class SimpleDataset(Dataset):\n",
    "    \n",
    "    # Constructor with default values \n",
    "    def __init__(self, length=100, transform=None):\n",
    "        self.len = length\n",
    "        self.x = torch.arange(length, dtype=torch.float32).view(-1, 1)  # x values: 0 to length-1 as a column tensor\n",
    "        self.y = torch.arange(length, dtype=torch.float32).view(-1, 1)  # y values: 0 to length-1 as a column tensor\n",
    "        self.transform = transform\n",
    "     \n",
    "    # Getter\n",
    "    def __getitem__(self, index):\n",
    "        sample = self.x[index], self.y[index]  # Retrieve a single sample at the given index\n",
    "        if self.transform:\n",
    "            sample = self.transform(sample)  # Apply the transformation if provided    \n",
    "        return sample\n",
    "    \n",
    "    # Get Length\n",
    "    def __len__(self):\n",
    "        return self.len  # Return the total number of samples in the dataset"
   ]
  },
  {
   "cell_type": "code",
   "execution_count": 47,
   "id": "46bccbee",
   "metadata": {},
   "outputs": [
    {
     "name": "stdout",
     "output_type": "stream",
     "text": [
      "index:  0 ; x: tensor([0.]) ; y: tensor([0.])\n",
      "index:  1 ; x: tensor([1.]) ; y: tensor([1.])\n",
      "index:  2 ; x: tensor([2.]) ; y: tensor([2.])\n",
      "index:  3 ; x: tensor([3.]) ; y: tensor([3.])\n",
      "index:  4 ; x: tensor([4.]) ; y: tensor([4.])\n"
     ]
    }
   ],
   "source": [
    "# Create a new Dataset Object with length 20 \n",
    "new_dataset = SimpleDataset(length=20)\n",
    "\n",
    "# Use loop to print out first 5 elements in dataset \n",
    "for i in range(5):\n",
    "    x, y = new_dataset[i]  # Access individual samples by index\n",
    "    print(\"index: \", i, '; x:', x, '; y:', y)"
   ]
  },
  {
   "cell_type": "markdown",
   "id": "0ddf3e5b",
   "metadata": {},
   "source": [
    "### Transform"
   ]
  },
  {
   "cell_type": "code",
   "execution_count": 48,
   "id": "82bffa6b",
   "metadata": {},
   "outputs": [],
   "source": [
    "# Define a transformation function (Example: Multiply x and y by 2)\n",
    "def custom_transform(sample):\n",
    "    x, y = sample\n",
    "    return x * 2, y * 2"
   ]
  },
  {
   "cell_type": "code",
   "execution_count": 49,
   "id": "9c4e3537",
   "metadata": {},
   "outputs": [
    {
     "name": "stdout",
     "output_type": "stream",
     "text": [
      "index:  0 ; x: tensor([0.]) ; y: tensor([0.])\n",
      "index:  1 ; x: tensor([2.]) ; y: tensor([2.])\n",
      "index:  2 ; x: tensor([4.]) ; y: tensor([4.])\n",
      "index:  3 ; x: tensor([6.]) ; y: tensor([6.])\n",
      "index:  4 ; x: tensor([8.]) ; y: tensor([8.])\n"
     ]
    }
   ],
   "source": [
    "new_dataset = SimpleDataset(length=20, transform=custom_transform)\n",
    "\n",
    "for i in range(5):\n",
    "    x, y = new_dataset[i]  \n",
    "    print(\"index: \", i, '; x:', x, '; y:', y)"
   ]
  },
  {
   "cell_type": "code",
   "execution_count": 50,
   "id": "34e50fe0",
   "metadata": {},
   "outputs": [],
   "source": [
    "# Define another transformation function (Example: Add 1 to x and y)\n",
    "def additional_transform(sample):\n",
    "    x, y = sample\n",
    "    return x + 1, y + 1"
   ]
  },
  {
   "cell_type": "code",
   "execution_count": 51,
   "id": "3b510e1c",
   "metadata": {},
   "outputs": [
    {
     "name": "stdout",
     "output_type": "stream",
     "text": [
      "index:  0 ; x: tensor([1.]) ; y: tensor([1.])\n",
      "index:  1 ; x: tensor([2.]) ; y: tensor([2.])\n",
      "index:  2 ; x: tensor([3.]) ; y: tensor([3.])\n",
      "index:  3 ; x: tensor([4.]) ; y: tensor([4.])\n",
      "index:  4 ; x: tensor([5.]) ; y: tensor([5.])\n"
     ]
    }
   ],
   "source": [
    "new_dataset = SimpleDataset(length=20, transform=additional_transform)\n",
    "\n",
    "for i in range(5):\n",
    "    x, y = new_dataset[i]  \n",
    "    print(\"index: \", i, '; x:', x, '; y:', y)"
   ]
  },
  {
   "cell_type": "markdown",
   "id": "e8003a1a",
   "metadata": {},
   "source": [
    "### Compose"
   ]
  },
  {
   "cell_type": "code",
   "execution_count": 52,
   "id": "32b6dda6",
   "metadata": {},
   "outputs": [],
   "source": [
    "# Define a transformation pipeline using Compose\n",
    "transform_pipeline = Compose([\n",
    "    custom_transform,\n",
    "    additional_transform\n",
    "])"
   ]
  },
  {
   "cell_type": "code",
   "execution_count": 53,
   "id": "2224372d",
   "metadata": {},
   "outputs": [
    {
     "name": "stdout",
     "output_type": "stream",
     "text": [
      "index:  0 ; x: tensor([1.]) ; y: tensor([1.])\n",
      "index:  1 ; x: tensor([3.]) ; y: tensor([3.])\n",
      "index:  2 ; x: tensor([5.]) ; y: tensor([5.])\n",
      "index:  3 ; x: tensor([7.]) ; y: tensor([7.])\n",
      "index:  4 ; x: tensor([9.]) ; y: tensor([9.])\n"
     ]
    }
   ],
   "source": [
    "# Create a new Dataset Object with length 20 and apply the transformation pipeline\n",
    "new_dataset = SimpleDataset(length=20, transform=transform_pipeline)\n",
    "\n",
    "# Use loop to print out first 5 elements in dataset after transformation\n",
    "for i in range(5):\n",
    "    x, y = new_dataset[i]  \n",
    "    print(\"index: \", i, '; x:', x, '; y:', y)"
   ]
  },
  {
   "cell_type": "code",
   "execution_count": null,
   "id": "b95d4f3e",
   "metadata": {},
   "outputs": [],
   "source": []
  },
  {
   "cell_type": "code",
   "execution_count": null,
   "id": "1c1025e5",
   "metadata": {},
   "outputs": [],
   "source": []
  }
 ],
 "metadata": {
  "kernelspec": {
   "display_name": "Python 3 (ipykernel)",
   "language": "python",
   "name": "python3"
  },
  "language_info": {
   "codemirror_mode": {
    "name": "ipython",
    "version": 3
   },
   "file_extension": ".py",
   "mimetype": "text/x-python",
   "name": "python",
   "nbconvert_exporter": "python",
   "pygments_lexer": "ipython3",
   "version": "3.9.13"
  }
 },
 "nbformat": 4,
 "nbformat_minor": 5
}
